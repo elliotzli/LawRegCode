{
 "cells": [
  {
   "cell_type": "code",
   "execution_count": 5,
   "metadata": {},
   "outputs": [
    {
     "name": "stdout",
     "output_type": "stream",
     "text": [
      "Data saved to Box Submission Detail.xlsx\n"
     ]
    }
   ],
   "source": [
    "import os\n",
    "import pandas as pd\n",
    "import openpyxl\n",
    "import datetime\n",
    "\n",
    "def extract_student_codes(base_path):\n",
    "    course_student_codes = {}\n",
    "    \n",
    "    courses = [d for d in os.listdir(base_path) if os.path.isdir(os.path.join(base_path, d))]\n",
    "    \n",
    "    for course in courses:\n",
    "        exams_path = os.path.join(base_path, course, \"Exams\")\n",
    "        student_codes = set()\n",
    "        \n",
    "        if os.path.exists(exams_path):\n",
    "            submissions = os.listdir(exams_path)\n",
    "            \n",
    "            for submission in submissions:\n",
    "                parts = submission.split('_')\n",
    "                if len(parts) > 0:\n",
    "                    student_code = parts[0]\n",
    "                    student_codes.add(student_code)\n",
    "        \n",
    "        course_student_codes[course] = student_codes\n",
    "    \n",
    "    return course_student_codes\n",
    "\n",
    "base_path = r\"C:\\Users\\zl516\\Box\\1_WPDOCS\\1 - Exams & Grades Team\\Exams\\Exam4 Exam Files\\202410 Take Home Final Exams\\202410 Take Home Final Exams- Faculty\"\n",
    "student_data = extract_student_codes(base_path)\n",
    "\n",
    "flat_data = [(course, code) for course, codes in student_data.items() for code in codes]\n",
    "df = pd.DataFrame(flat_data, columns=['Course Box Folder Name', 'Exam Code'])\n",
    "\n",
    "df['Submission Key'] = df.iloc[:, 0] + ' ' + df.iloc[:, 1]\n",
    "\n",
    "excel_path = 'Box Submission Detail.xlsx'\n",
    "df.to_excel(excel_path, index=False)\n",
    "print(f\"Data saved to {excel_path}\")"
   ]
  }
 ],
 "metadata": {
  "kernelspec": {
   "display_name": "Python 3",
   "language": "python",
   "name": "python3"
  },
  "language_info": {
   "codemirror_mode": {
    "name": "ipython",
    "version": 3
   },
   "file_extension": ".py",
   "mimetype": "text/x-python",
   "name": "python",
   "nbconvert_exporter": "python",
   "pygments_lexer": "ipython3",
   "version": "3.11.9"
  }
 },
 "nbformat": 4,
 "nbformat_minor": 2
}
