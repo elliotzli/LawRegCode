{
 "cells": [
  {
   "cell_type": "code",
   "execution_count": 4,
   "metadata": {},
   "outputs": [
    {
     "name": "stdout",
     "output_type": "stream",
     "text": [
      "Data saved to Exam_Submission_Details.xlsx\n"
     ]
    }
   ],
   "source": [
    "import os\n",
    "import pandas as pd\n",
    "import openpyxl\n",
    "import datetime\n",
    "\n",
    "def extract_student_codes(base_path):\n",
    "    course_student_codes = {}\n",
    "    \n",
    "    courses = [d for d in os.listdir(base_path) if os.path.isdir(os.path.join(base_path, d))]\n",
    "    \n",
    "    for course in courses:\n",
    "        exams_path = os.path.join(base_path, course, \"Exams\")\n",
    "        student_codes = set()\n",
    "        \n",
    "        if os.path.exists(exams_path):\n",
    "            submissions = os.listdir(exams_path)\n",
    "            \n",
    "            for submission in submissions:\n",
    "                parts = submission.split('_')\n",
    "                if len(parts) > 0:\n",
    "                    student_code = parts[0]\n",
    "                    student_codes.add(student_code)\n",
    "        \n",
    "        course_student_codes[course] = student_codes\n",
    "    \n",
    "    return course_student_codes\n",
    "\n",
    "base_path = r\"C:\\Users\\zl516\\Box\\1_WPDOCS\\1 - Exams & Grades Team\\Exams\\Exam4 Exam Files\\202410 Take Home Final Exams\\202410 Take Home Final Exams- Faculty\"\n",
    "student_data = extract_student_codes(base_path)\n",
    "\n",
    "flat_data = [(course, code) for course, codes in student_data.items() for code in codes]\n",
    "box_submission = pd.DataFrame(flat_data, columns=['Course Box Folder Name', 'Exam Code'])\n",
    "\n",
    "box_submission['Submission Key'] = box_submission.iloc[:, 0] + '_' + box_submission.iloc[:, 1]\n",
    "unique_key = pd.read_excel('exam_unique_key.xlsx')\n",
    "exam_database = pd.read_csv('take-home_examinfo.csv')[['Course & Instructor','Course #','Exam #']]\n",
    "\n",
    "exam_database = pd.merge(exam_database, unique_key[['Course #', 'Box Folder Name']], on='Course #', how='left')\n",
    "exam_database['Exam #'] = exam_database['Exam #'].astype(str)\n",
    "exam_database['Submission Key'] = exam_database.iloc[:, 3] + '_' + exam_database.iloc[:, 2]\n",
    "\n",
    "missing_submissions = exam_database[~exam_database['Submission Key'].isin(box_submission['Submission Key'])]\n",
    "\n",
    "not_in_database = box_submission.merge(exam_database[['Submission Key']], on='Submission Key', how='left', indicator=True)\n",
    "not_in_database = not_in_database[not_in_database['_merge'] == 'left_only'].drop(columns=['_merge'])\n",
    "\n",
    "common_entries = pd.merge(exam_database, box_submission[['Submission Key']], on='Submission Key', how='inner')\n",
    "\n",
    "unique_confirmed_submissions = common_entries.drop_duplicates(subset='Submission Key')\n",
    "\n",
    "overview_data = {\n",
    "    'Description': ['Total Exams Registered', 'Submissions Received', 'Confirmed Submissions', 'Confirmed Submissions Unique', 'Missing Submissions', 'Incorrect Submissions'],\n",
    "    'Count': [len(exam_database), len(box_submission), len(common_entries), len(unique_confirmed_submissions), len(missing_submissions), len(not_in_database)]\n",
    "}\n",
    "overview_df = pd.DataFrame(overview_data)\n",
    "\n",
    "with pd.ExcelWriter('Exam_Submission_Details.xlsx') as writer:\n",
    "    overview_df.to_excel(writer, sheet_name='Overview', index=False)\n",
    "    exam_database.to_excel(writer, sheet_name='All Exams Registered', index=False)\n",
    "    box_submission.to_excel(writer, sheet_name='Submissions Received', index=False)\n",
    "    common_entries.to_excel(writer, sheet_name='Confirmed Submissions', index=False)\n",
    "    unique_confirmed_submissions.to_excel(writer, sheet_name='Confirmed Submissions Unique', index=False)\n",
    "    missing_submissions.to_excel(writer, sheet_name='Missing Submissions', index=False)\n",
    "    not_in_database.to_excel(writer, sheet_name='Incorrect Submissions', index=False)\n",
    "\n",
    "print(\"Data saved to Exam_Submission_Details.xlsx\")"
   ]
  }
 ],
 "metadata": {
  "kernelspec": {
   "display_name": "Python 3",
   "language": "python",
   "name": "python3"
  },
  "language_info": {
   "codemirror_mode": {
    "name": "ipython",
    "version": 3
   },
   "file_extension": ".py",
   "mimetype": "text/x-python",
   "name": "python",
   "nbconvert_exporter": "python",
   "pygments_lexer": "ipython3",
   "version": "3.11.9"
  }
 },
 "nbformat": 4,
 "nbformat_minor": 2
}
